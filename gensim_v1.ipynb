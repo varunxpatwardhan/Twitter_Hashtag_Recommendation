{
 "cells": [
  {
   "cell_type": "code",
   "execution_count": 36,
   "metadata": {
    "collapsed": true
   },
   "outputs": [],
   "source": [
    "import pandas as pd\n",
    "import numpy as np\n",
    "import gensim\n",
    "from gensim import similarities,models,corpora\n",
    "import nltk\n"
   ]
  },
  {
   "cell_type": "code",
   "execution_count": 12,
   "metadata": {
    "collapsed": true
   },
   "outputs": [],
   "source": [
    "data = pd.read_csv('test.csv',header=0,encoding='ISO-8859-1')"
   ]
  },
  {
   "cell_type": "code",
   "execution_count": 16,
   "metadata": {},
   "outputs": [
    {
     "data": {
      "text/plain": [
       "entities_hashtags_0_text    object\n",
       "text                        object\n",
       "dtype: object"
      ]
     },
     "execution_count": 16,
     "metadata": {},
     "output_type": "execute_result"
    }
   ],
   "source": [
    "data.dtypes"
   ]
  },
  {
   "cell_type": "code",
   "execution_count": 19,
   "metadata": {
    "collapsed": true
   },
   "outputs": [],
   "source": [
    "def embed(tag,x):\n",
    "    tweet = x.split()\n",
    "    embedded =[]\n",
    "    for w in tweet:\n",
    "        embedded.append(tag)\n",
    "        embedded.append(w)\n",
    "    return ' '.join(str(t) for t in embedded)\n",
    "        "
   ]
  },
  {
   "cell_type": "code",
   "execution_count": null,
   "metadata": {
    "collapsed": true
   },
   "outputs": [],
   "source": []
  },
  {
   "cell_type": "code",
   "execution_count": 20,
   "metadata": {
    "collapsed": true
   },
   "outputs": [],
   "source": [
    "data['text2'] = data.apply(lambda x: embed(str(x['entities_hashtags_0_text']), str(x['text'])), axis=1)"
   ]
  },
  {
   "cell_type": "code",
   "execution_count": 22,
   "metadata": {
    "collapsed": true
   },
   "outputs": [],
   "source": [
    "corpus = list(data['text2'])"
   ]
  },
  {
   "cell_type": "code",
   "execution_count": 24,
   "metadata": {
    "collapsed": true
   },
   "outputs": [],
   "source": [
    "corpus_text = ' '.join(str(t) for t in corpus)"
   ]
  },
  {
   "cell_type": "code",
   "execution_count": 31,
   "metadata": {
    "collapsed": true
   },
   "outputs": [],
   "source": [
    "text_file = open(\"Output.txt\", \"w\")\n",
    "text_file.write(str(corpus_text.encode(\"utf-8\")))\n",
    "text_file.close()"
   ]
  },
  {
   "cell_type": "code",
   "execution_count": 35,
   "metadata": {
    "collapsed": true
   },
   "outputs": [],
   "source": [
    "corpus_for_gensim = data['text2'].values.tolist()"
   ]
  },
  {
   "cell_type": "code",
   "execution_count": 38,
   "metadata": {
    "collapsed": true
   },
   "outputs": [],
   "source": [
    "tok_corp= [nltk.word_tokenize(sent) for sent in corpus_for_gensim]"
   ]
  },
  {
   "cell_type": "code",
   "execution_count": 40,
   "metadata": {
    "collapsed": true
   },
   "outputs": [],
   "source": [
    "model = gensim.models.Word2Vec(tok_corp, min_count=1, size = 32)"
   ]
  },
  {
   "cell_type": "code",
   "execution_count": 41,
   "metadata": {
    "collapsed": true
   },
   "outputs": [],
   "source": [
    "test = nltk.word_tokenize('People have a hard time letting go of their suffering.They prefer suffering that is familiar to the unknown. ')"
   ]
  },
  {
   "cell_type": "code",
   "execution_count": 42,
   "metadata": {},
   "outputs": [
    {
     "data": {
      "text/plain": [
       "[('cut', 0.9371904134750366),\n",
       " ('different', 0.9256900548934937),\n",
       " ('coinSplit', 0.9248132705688477),\n",
       " ('recognize', 0.9208018779754639),\n",
       " ('difficult', 0.9197430610656738),\n",
       " ('ajahbridge', 0.9183388948440552),\n",
       " ('savejean', 0.9168380498886108),\n",
       " ('HolyGrail', 0.91678386926651),\n",
       " ('SmartHealth', 0.9165093898773193),\n",
       " ('either', 0.9148464798927307)]"
      ]
     },
     "execution_count": 42,
     "metadata": {},
     "output_type": "execute_result"
    }
   ],
   "source": [
    "model.most_similar(test)"
   ]
  },
  {
   "cell_type": "code",
   "execution_count": 59,
   "metadata": {
    "collapsed": true
   },
   "outputs": [],
   "source": [
    "test = nltk.word_tokenize(\"Need help strengthening your prayer life? Join\")"
   ]
  },
  {
   "cell_type": "code",
   "execution_count": 60,
   "metadata": {},
   "outputs": [
    {
     "data": {
      "text/plain": [
       "[('godisgood', 0.8862038850784302),\n",
       " ('livelong', 0.8822796940803528),\n",
       " ('AfricanWisdom', 0.8810487985610962),\n",
       " ('livestrong', 0.8803151845932007),\n",
       " ('massagetherapy', 0.8739158511161804),\n",
       " ('opinions', 0.8735718727111816),\n",
       " ('cure', 0.8730356097221375),\n",
       " ('MEP', 0.8721215724945068),\n",
       " ('teach', 0.8720831274986267),\n",
       " ('consider', 0.8717336654663086)]"
      ]
     },
     "execution_count": 60,
     "metadata": {},
     "output_type": "execute_result"
    }
   ],
   "source": [
    "model.most_similar(test)"
   ]
  },
  {
   "cell_type": "code",
   "execution_count": null,
   "metadata": {
    "collapsed": true
   },
   "outputs": [],
   "source": []
  }
 ],
 "metadata": {
  "kernelspec": {
   "display_name": "Python 3",
   "language": "python",
   "name": "python3"
  },
  "language_info": {
   "codemirror_mode": {
    "name": "ipython",
    "version": 3
   },
   "file_extension": ".py",
   "mimetype": "text/x-python",
   "name": "python",
   "nbconvert_exporter": "python",
   "pygments_lexer": "ipython3",
   "version": "3.6.3"
  }
 },
 "nbformat": 4,
 "nbformat_minor": 2
}
